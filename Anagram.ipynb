{
  "nbformat": 4,
  "nbformat_minor": 0,
  "metadata": {
    "colab": {
      "name": "Anagram.ipynb",
      "provenance": [],
      "collapsed_sections": [],
      "authorship_tag": "ABX9TyPBpeKxGHC+cCTxxHoXo3qd",
      "include_colab_link": true
    },
    "kernelspec": {
      "name": "python3",
      "display_name": "Python 3"
    }
  },
  "cells": [
    {
      "cell_type": "markdown",
      "metadata": {
        "id": "view-in-github",
        "colab_type": "text"
      },
      "source": [
        "<a href=\"https://colab.research.google.com/github/Arathi-python/School_Website/blob/master/Anagram.ipynb\" target=\"_parent\"><img src=\"https://colab.research.google.com/assets/colab-badge.svg\" alt=\"Open In Colab\"/></a>"
      ]
    },
    {
      "cell_type": "code",
      "metadata": {
        "id": "b3sQeF8k_3eW",
        "colab_type": "code",
        "colab": {
          "base_uri": "https://localhost:8080/",
          "height": 68
        },
        "outputId": "8b90780a-b620-400b-d65f-d08b110ca1bf"
      },
      "source": [
        "# function to check if two strings are \n",
        "# anagram or not  \n",
        "def check(s1, s2): \n",
        "      \n",
        "    # the sorted strings are checked  \n",
        "    if(sorted(s1)== sorted(s2)): \n",
        "        print(\"The strings are anagrams.\")  \n",
        "    else: \n",
        "        print(\"The strings aren't anagrams.\")          \n",
        "          \n",
        "# driver code   \n",
        "s1 = input(\"Enter first string   :\"  )\n",
        "str1 = str(s1)\n",
        "s2 = input(\"Enter second string   :\" )\n",
        "str2 = str(s2)\n",
        "check(str1, str2) \n",
        "\n"
      ],
      "execution_count": 5,
      "outputs": [
        {
          "output_type": "stream",
          "text": [
            "Enter first string   :dim\n",
            "Enter second string   :dam\n",
            "The strings aren't anagrams.\n"
          ],
          "name": "stdout"
        }
      ]
    }
  ]
}