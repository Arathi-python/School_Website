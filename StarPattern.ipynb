{
  "nbformat": 4,
  "nbformat_minor": 0,
  "metadata": {
    "colab": {
      "name": "StarPattern.ipynb",
      "provenance": [],
      "authorship_tag": "ABX9TyPuAKgE3dPyoUnzn4njy7S6",
      "include_colab_link": true
    },
    "kernelspec": {
      "name": "python3",
      "display_name": "Python 3"
    }
  },
  "cells": [
    {
      "cell_type": "markdown",
      "metadata": {
        "id": "view-in-github",
        "colab_type": "text"
      },
      "source": [
        "<a href=\"https://colab.research.google.com/github/Arathi-python/School_Website/blob/master/StarPattern.ipynb\" target=\"_parent\"><img src=\"https://colab.research.google.com/assets/colab-badge.svg\" alt=\"Open In Colab\"/></a>"
      ]
    },
    {
      "cell_type": "code",
      "metadata": {
        "id": "3Fl99WCp1uIA",
        "colab_type": "code",
        "colab": {
          "base_uri": "https://localhost:8080/",
          "height": 102
        },
        "outputId": "f1066b96-9131-4e05-df46-782a5e7738ce"
      },
      "source": [
        "def printpattern(n): \n",
        "      \n",
        "    # outer loop to handle number of rows \n",
        "    for i in range(0, n): \n",
        "      \n",
        "        # inner loop to handle number of columns \n",
        "        # values changing acc0rding to outer loop \n",
        "        for j in range(0, i+1): \n",
        "          \n",
        "            # printing stars \n",
        "            print(\"* \",end=\"\") \n",
        "       \n",
        "        # ending line after each row \n",
        "        print(\"\\r\") \n",
        "  \n",
        "# Driver Code \n",
        "n = 5\n",
        "printpattern(n) \n"
      ],
      "execution_count": 1,
      "outputs": [
        {
          "output_type": "stream",
          "text": [
            "* \r\n",
            "* * \r\n",
            "* * * \r\n",
            "* * * * \r\n",
            "* * * * * \r\n"
          ],
          "name": "stdout"
        }
      ]
    }
  ]
}